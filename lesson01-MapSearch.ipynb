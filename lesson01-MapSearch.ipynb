{
 "cells": [
  {
   "cell_type": "code",
   "execution_count": 1,
   "metadata": {
    "scrolled": true
   },
   "outputs": [],
   "source": [
    "import networkx as nx\n",
    "BEIJING,CHANGCHUN,WULUMUQI,WUHAN,GUANGZHOU,SHENZHEN,BANGKOK,SHANGHAI,NEWYORK ='''BEIJING CHANGCHUN WULUMUQI WUHAN GUANGZHOU SHENZHEN BANGKOK SHANGHAI NEWYORK'''.split()\n",
    "connection = {\n",
    "    CHANGCHUN: [BEIJING,SHANGHAI,WUHAN],\n",
    "    WULUMUQI: [BEIJING,SHANGHAI,GUANGZHOU], \n",
    "    BEIJING: [WULUMUQI, CHANGCHUN, WUHAN, SHENZHEN, NEWYORK],\n",
    "    NEWYORK: [BEIJING, SHANGHAI],\n",
    "    SHANGHAI: [NEWYORK, WUHAN,BEIJING],\n",
    "    WUHAN: [SHANGHAI, BEIJING, GUANGZHOU],\n",
    "    GUANGZHOU: [WUHAN, BANGKOK,SHANGHAI],\n",
    "    SHENZHEN: [WUHAN, BANGKOK,BEIJING],\n",
    "    BANGKOK: [SHENZHEN, GUANGZHOU]\n",
    "}"
   ]
  },
  {
   "cell_type": "code",
   "execution_count": 2,
   "metadata": {},
   "outputs": [
    {
     "name": "stderr",
     "output_type": "stream",
     "text": [
      "UsageError: unrecognized arguments: #显示图像\n"
     ]
    }
   ],
   "source": [
    "%matplotlib inline #显示图像"
   ]
  },
  {
   "cell_type": "code",
   "execution_count": 4,
   "metadata": {},
   "outputs": [
    {
     "data": {
      "image/png": "[encoded data removed]",
      "text/plain": [
       "<matplotlib.figure.Figure at 0x21c58d879b0>"
      ]
     },
     "metadata": {},
     "output_type": "display_data"
    }
   ],
   "source": [
    "dictionary={}\n",
    "graph = connection\n",
    "g = nx.Graph(graph)\n",
    "nx.draw(g)"
   ]
  },
  {
   "cell_type": "code",
   "execution_count": 5,
   "metadata": {},
   "outputs": [],
   "source": [
    "def navigator(start, destination, connection_graph):\n",
    "    pathes = [[start]]\n",
    "    seen = set()\n",
    "    while pathes:\n",
    "        path = pathes.pop(0) #取出当前最短路线\n",
    "        frontier = path[-1] #取出路线中最后一个城市\n",
    "        successors = connection_graph[frontier]\n",
    "        if frontier in seen:\n",
    "            continue\n",
    "        for s in successors:\n",
    "            if s==destination:\n",
    "                path.append(s)\n",
    "                return path\n",
    "            else:\n",
    "                pathes.append(path+[s])\n",
    "        pathes = sorted(pathes,key=len)\n",
    "        seen.add(frontier)"
   ]
  },
  {
   "cell_type": "code",
   "execution_count": 6,
   "metadata": {},
   "outputs": [
    {
     "name": "stdout",
     "output_type": "stream",
     "text": [
      "['CHANGCHUN', 'WUHAN', 'GUANGZHOU']\n"
     ]
    }
   ],
   "source": [
    "print(navigator(CHANGCHUN,GUANGZHOU,connection))"
   ]
  },
  {
   "cell_type": "code",
   "execution_count": 7,
   "metadata": {},
   "outputs": [],
   "source": [
    "def nagivator_bfs(start, destination, connection_graph): #广度优先遍历\n",
    "    pathes = [start]\n",
    "    seen = set()\n",
    "    while pathes:\n",
    "        froniter = pathes.pop(0)       \n",
    "        if froniter in seen: \n",
    "            continue\n",
    "        successors = connection_graph[froniter]\n",
    "        print('standing on {} Looking forward {}'.format(froniter, successors))\n",
    "        pathes = pathes + successors\n",
    "       # print('pathes:',pathes)        \n",
    "        seen.add(froniter)"
   ]
  },
  {
   "cell_type": "code",
   "execution_count": 8,
   "metadata": {},
   "outputs": [
    {
     "name": "stdout",
     "output_type": "stream",
     "text": [
      "standing on CHANGCHUN Looking forward ['BEIJING', 'SHANGHAI', 'WUHAN']\n",
      "standing on BEIJING Looking forward ['WULUMUQI', 'CHANGCHUN', 'WUHAN', 'SHENZHEN', 'NEWYORK']\n",
      "standing on SHANGHAI Looking forward ['NEWYORK', 'WUHAN', 'BEIJING']\n",
      "standing on WUHAN Looking forward ['SHANGHAI', 'BEIJING', 'GUANGZHOU']\n",
      "standing on WULUMUQI Looking forward ['BEIJING', 'SHANGHAI', 'GUANGZHOU']\n",
      "standing on SHENZHEN Looking forward ['WUHAN', 'BANGKOK', 'BEIJING']\n",
      "standing on NEWYORK Looking forward ['BEIJING', 'SHANGHAI']\n",
      "standing on GUANGZHOU Looking forward ['WUHAN', 'BANGKOK', 'SHANGHAI']\n",
      "standing on BANGKOK Looking forward ['SHENZHEN', 'GUANGZHOU']\n"
     ]
    }
   ],
   "source": [
    "nagivator_bfs(CHANGCHUN,GUANGZHOU,connection)"
   ]
  },
  {
   "cell_type": "code",
   "execution_count": 9,
   "metadata": {},
   "outputs": [],
   "source": [
    "def navigator_dfs(start, destination, connection_graph):#深度优先遍历\n",
    "    pathes = [start]\n",
    "    seen = set()\n",
    "    while pathes:\n",
    "        frontier = pathes.pop(0)\n",
    "        if frontier in seen:\n",
    "            continue\n",
    "        seccessors = connection_graph[frontier]\n",
    "        print('standing on {} Looking forward {}'.format(frontier, seccessors))\n",
    "        pathes = seccessors + pathes\n",
    "        seen.add(frontier)"
   ]
  },
  {
   "cell_type": "code",
   "execution_count": 10,
   "metadata": {},
   "outputs": [
    {
     "name": "stdout",
     "output_type": "stream",
     "text": [
      "standing on CHANGCHUN Looking forward ['BEIJING', 'SHANGHAI', 'WUHAN']\n",
      "standing on BEIJING Looking forward ['WULUMUQI', 'CHANGCHUN', 'WUHAN', 'SHENZHEN', 'NEWYORK']\n",
      "standing on WULUMUQI Looking forward ['BEIJING', 'SHANGHAI', 'GUANGZHOU']\n",
      "standing on SHANGHAI Looking forward ['NEWYORK', 'WUHAN', 'BEIJING']\n",
      "standing on NEWYORK Looking forward ['BEIJING', 'SHANGHAI']\n",
      "standing on WUHAN Looking forward ['SHANGHAI', 'BEIJING', 'GUANGZHOU']\n",
      "standing on GUANGZHOU Looking forward ['WUHAN', 'BANGKOK', 'SHANGHAI']\n",
      "standing on BANGKOK Looking forward ['SHENZHEN', 'GUANGZHOU']\n",
      "standing on SHENZHEN Looking forward ['WUHAN', 'BANGKOK', 'BEIJING']\n",
      "None\n"
     ]
    }
   ],
   "source": [
    "print(navigator_dfs(CHANGCHUN,GUANGZHOU,connection))"
   ]
  }
 ],
 "metadata": {
  "kernelspec": {
   "display_name": "Python 3",
   "language": "python",
   "name": "python3"
  },
  "language_info": {
   "codemirror_mode": {
    "name": "ipython",
    "version": 3
   },
   "file_extension": ".py",
   "mimetype": "text/x-python",
   "name": "python",
   "nbconvert_exporter": "python",
   "pygments_lexer": "ipython3",
   "version": "3.6.4"
  }
 },
 "nbformat": 4,
 "nbformat_minor": 2
}
